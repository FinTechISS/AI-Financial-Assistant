{
 "cells": [
  {
   "cell_type": "markdown",
   "metadata": {},
   "source": [
    "All Imports"
   ]
  },
  {
   "cell_type": "code",
   "execution_count": 16,
   "metadata": {},
   "outputs": [],
   "source": [
    "import yfinance as yf\n",
    "import pandas as pd\n",
    "import numpy as np\n",
    "from sklearn.preprocessing import MinMaxScaler\n",
    "from sklearn.model_selection import train_test_split\n",
    "from sklearn.metrics import mean_squared_error\n",
    "from tensorflow.keras.models import Sequential\n",
    "import tensorflow.keras.models as models\n",
    "from tensorflow.keras.layers import Dense, SimpleRNN, LSTM, GRU, Bidirectional, Reshape\n",
    "import matplotlib.pyplot as plt\n",
    "import mlflow"
   ]
  },
  {
   "cell_type": "markdown",
   "metadata": {},
   "source": [
    "Load both CSV files into pandas dataframes"
   ]
  },
  {
   "cell_type": "code",
   "execution_count": 2,
   "metadata": {},
   "outputs": [
    {
     "name": "stderr",
     "output_type": "stream",
     "text": [
      "/tmp/ipykernel_718/3057472841.py:1: DtypeWarning: Columns (8,9,10,11,12,15,17,18,20,21,23,24,25,26,27,28) have mixed types. Specify dtype option on import or set low_memory=False.\n",
      "  df1 = pd.read_csv('aapl_2016_2020.csv')\n",
      "/tmp/ipykernel_718/3057472841.py:2: DtypeWarning: Columns (15,17,18,20,21,23) have mixed types. Specify dtype option on import or set low_memory=False.\n",
      "  df2 = pd.read_csv('aapl_2021_2023.csv')\n"
     ]
    }
   ],
   "source": [
    "df1 = pd.read_csv('aapl_2016_2020.csv')\n",
    "df2 = pd.read_csv('aapl_2021_2023.csv')"
   ]
  },
  {
   "cell_type": "markdown",
   "metadata": {},
   "source": [
    "Concatenate the dataframes along rows (assuming they have the same columns)"
   ]
  },
  {
   "cell_type": "code",
   "execution_count": 3,
   "metadata": {},
   "outputs": [],
   "source": [
    "raw_df = pd.concat([df1, df2], ignore_index=True)"
   ]
  },
  {
   "cell_type": "markdown",
   "metadata": {},
   "source": [
    "Save the merged dataframe to a new CSV file"
   ]
  },
  {
   "cell_type": "code",
   "execution_count": 4,
   "metadata": {},
   "outputs": [],
   "source": [
    "raw_df.to_csv('merged.csv', index=False)"
   ]
  },
  {
   "cell_type": "markdown",
   "metadata": {},
   "source": [
    "Get rid of [ ] in the column name"
   ]
  },
  {
   "cell_type": "code",
   "execution_count": 5,
   "metadata": {},
   "outputs": [],
   "source": [
    "columns = raw_df.columns\n",
    "columns = [s.replace('[', '') for s in columns]\n",
    "columns = [s.replace(']', '') for s in columns]\n",
    "columns = [s.replace(' ', '') for s in columns]\n",
    "\n",
    "raw_df.columns = columns"
   ]
  },
  {
   "cell_type": "markdown",
   "metadata": {},
   "source": [
    "Some columns will not be handled well when converting raw numeric strings to Python's integer and float datatypes. \n",
    "\n",
    "Therefore, we will treat these features separately and join them again later."
   ]
  },
  {
   "cell_type": "code",
   "execution_count": 6,
   "metadata": {},
   "outputs": [
    {
     "data": {
      "text/plain": [
       "['QUOTE_UNIXTIME',\n",
       " 'UNDERLYING_LAST',\n",
       " 'EXPIRE_UNIX',\n",
       " 'DTE',\n",
       " 'C_DELTA',\n",
       " 'C_GAMMA',\n",
       " 'C_VEGA',\n",
       " 'C_THETA',\n",
       " 'C_RHO',\n",
       " 'C_IV',\n",
       " 'C_VOLUME',\n",
       " 'C_LAST',\n",
       " 'C_BID',\n",
       " 'C_ASK',\n",
       " 'STRIKE',\n",
       " 'P_BID',\n",
       " 'P_ASK',\n",
       " 'P_LAST',\n",
       " 'P_DELTA',\n",
       " 'P_GAMMA',\n",
       " 'P_VEGA',\n",
       " 'P_THETA',\n",
       " 'P_RHO',\n",
       " 'P_IV',\n",
       " 'P_VOLUME',\n",
       " 'STRIKE_DISTANCE',\n",
       " 'STRIKE_DISTANCE_PCT']"
      ]
     },
     "execution_count": 6,
     "metadata": {},
     "output_type": "execute_result"
    }
   ],
   "source": [
    "date_columns = ['QUOTE_READTIME','QUOTE_DATE','EXPIRE_DATE','QUOTE_TIME_HOURS', 'C_SIZE', 'P_SIZE']\n",
    "numeric_cols = raw_df.columns.to_list()\n",
    "numeric_cols.remove('QUOTE_READTIME')\n",
    "numeric_cols.remove('QUOTE_DATE')\n",
    "numeric_cols.remove('EXPIRE_DATE')\n",
    "numeric_cols.remove('QUOTE_TIME_HOURS')\n",
    "numeric_cols.remove('C_SIZE')\n",
    "numeric_cols.remove('P_SIZE')\n",
    "\n",
    "numeric_cols"
   ]
  },
  {
   "cell_type": "code",
   "execution_count": 7,
   "metadata": {},
   "outputs": [],
   "source": [
    "numeric_df = raw_df.drop(columns=date_columns)\n",
    "\n",
    "for i in numeric_cols:\n",
    "    numeric_df[i] = pd.to_numeric(numeric_df[i], errors='coerce')"
   ]
  },
  {
   "cell_type": "markdown",
   "metadata": {},
   "source": [
    "Now we drop all rows that contains an element that is NaN"
   ]
  },
  {
   "cell_type": "code",
   "execution_count": 8,
   "metadata": {},
   "outputs": [],
   "source": [
    "numeric_df = numeric_df.dropna()"
   ]
  },
  {
   "cell_type": "markdown",
   "metadata": {},
   "source": [
    "Choosing our Features X and Target Y"
   ]
  },
  {
   "cell_type": "code",
   "execution_count": 9,
   "metadata": {},
   "outputs": [],
   "source": [
    "X = numeric_df.drop(columns=['P_LAST', 'C_LAST'])\n",
    "y = numeric_df[['P_LAST', 'C_LAST']]"
   ]
  },
  {
   "cell_type": "markdown",
   "metadata": {},
   "source": [
    "Scale transform the data"
   ]
  },
  {
   "cell_type": "code",
   "execution_count": 10,
   "metadata": {},
   "outputs": [],
   "source": [
    "scaler = MinMaxScaler(feature_range=(0.1, 1))\n",
    "X, y = scaler.fit_transform(X), scaler.fit_transform(y)"
   ]
  },
  {
   "cell_type": "markdown",
   "metadata": {},
   "source": [
    "Convert them into matrices"
   ]
  },
  {
   "cell_type": "code",
   "execution_count": 11,
   "metadata": {},
   "outputs": [],
   "source": [
    "X, y = np.array(X), np.array(y)"
   ]
  },
  {
   "cell_type": "markdown",
   "metadata": {},
   "source": [
    "Check Dimensions of the features and targets"
   ]
  },
  {
   "cell_type": "code",
   "execution_count": 12,
   "metadata": {},
   "outputs": [
    {
     "name": "stdout",
     "output_type": "stream",
     "text": [
      "(872082, 25) (872082, 2)\n"
     ]
    }
   ],
   "source": [
    "print(X.shape, y.shape)"
   ]
  },
  {
   "cell_type": "markdown",
   "metadata": {},
   "source": [
    "Split data into train and test (80%:20%)"
   ]
  },
  {
   "cell_type": "code",
   "execution_count": 13,
   "metadata": {},
   "outputs": [],
   "source": [
    "X_train, X_test, y_train, y_test = train_test_split(X, y, test_size=0.2, random_state=2)"
   ]
  },
  {
   "cell_type": "markdown",
   "metadata": {},
   "source": [
    "Start our MLflow run"
   ]
  },
  {
   "cell_type": "code",
   "execution_count": 14,
   "metadata": {},
   "outputs": [
    {
     "name": "stderr",
     "output_type": "stream",
     "text": [
      "2024/04/17 20:16:43 INFO mlflow.tracking.fluent: Experiment with name 'options_RNN_prediction1' does not exist. Creating a new experiment.\n"
     ]
    },
    {
     "data": {
      "text/plain": [
       "<Experiment: artifact_location='file:///home/nour/myproject/AI-Financial-Assistant/mlruns/916325578622413658', creation_time=1713381403991, experiment_id='916325578622413658', last_update_time=1713381403991, lifecycle_stage='active', name='options_RNN_prediction1', tags={}>"
      ]
     },
     "execution_count": 14,
     "metadata": {},
     "output_type": "execute_result"
    }
   ],
   "source": [
    "mlflow.set_experiment(\"options_RNN_prediction1\")"
   ]
  },
  {
   "cell_type": "markdown",
   "metadata": {},
   "source": [
    "Build our model and run it with MLflow"
   ]
  },
  {
   "cell_type": "code",
   "execution_count": 21,
   "metadata": {},
   "outputs": [
    {
     "name": "stderr",
     "output_type": "stream",
     "text": [
      "/home/nour/anaconda3/envs/ISS/lib/python3.11/site-packages/keras/src/layers/core/dense.py:88: UserWarning: Do not pass an `input_shape`/`input_dim` argument to a layer. When using Sequential models, prefer using an `Input(shape)` object as the first layer in the model instead.\n",
      "  super().__init__(activity_regularizer=activity_regularizer, **kwargs)\n",
      "2024-04-17 20:38:19.518933: W external/local_tsl/tsl/framework/cpu_allocator_impl.cc:83] Allocation of 69766500 exceeds 10% of free system memory.\n"
     ]
    },
    {
     "name": "stdout",
     "output_type": "stream",
     "text": [
      "Epoch 1/10\n",
      "\u001b[1m21803/21803\u001b[0m \u001b[32m━━━━━━━━━━━━━━━━━━━━\u001b[0m\u001b[37m\u001b[0m \u001b[1m61s\u001b[0m 3ms/step - loss: 0.0016 - val_loss: 1.8248e-04\n",
      "Epoch 2/10\n",
      "\u001b[1m21803/21803\u001b[0m \u001b[32m━━━━━━━━━━━━━━━━━━━━\u001b[0m\u001b[37m\u001b[0m \u001b[1m56s\u001b[0m 3ms/step - loss: 1.8240e-04 - val_loss: 1.6834e-04\n",
      "Epoch 3/10\n",
      "\u001b[1m21803/21803\u001b[0m \u001b[32m━━━━━━━━━━━━━━━━━━━━\u001b[0m\u001b[37m\u001b[0m \u001b[1m58s\u001b[0m 3ms/step - loss: 1.7631e-04 - val_loss: 1.9602e-04\n",
      "Epoch 4/10\n",
      "\u001b[1m21803/21803\u001b[0m \u001b[32m━━━━━━━━━━━━━━━━━━━━\u001b[0m\u001b[37m\u001b[0m \u001b[1m54s\u001b[0m 2ms/step - loss: 1.7054e-04 - val_loss: 1.5418e-04\n",
      "Epoch 5/10\n",
      "\u001b[1m21803/21803\u001b[0m \u001b[32m━━━━━━━━━━━━━━━━━━━━\u001b[0m\u001b[37m\u001b[0m \u001b[1m51s\u001b[0m 2ms/step - loss: 1.6546e-04 - val_loss: 1.8525e-04\n",
      "Epoch 6/10\n",
      "\u001b[1m21803/21803\u001b[0m \u001b[32m━━━━━━━━━━━━━━━━━━━━\u001b[0m\u001b[37m\u001b[0m \u001b[1m52s\u001b[0m 2ms/step - loss: 1.6341e-04 - val_loss: 2.1481e-04\n",
      "Epoch 7/10\n",
      "\u001b[1m21803/21803\u001b[0m \u001b[32m━━━━━━━━━━━━━━━━━━━━\u001b[0m\u001b[37m\u001b[0m \u001b[1m53s\u001b[0m 2ms/step - loss: 1.5910e-04 - val_loss: 1.6845e-04\n",
      "Epoch 8/10\n",
      "\u001b[1m21803/21803\u001b[0m \u001b[32m━━━━━━━━━━━━━━━━━━━━\u001b[0m\u001b[37m\u001b[0m \u001b[1m53s\u001b[0m 2ms/step - loss: 1.5608e-04 - val_loss: 1.9207e-04\n",
      "Epoch 9/10\n",
      "\u001b[1m21803/21803\u001b[0m \u001b[32m━━━━━━━━━━━━━━━━━━━━\u001b[0m\u001b[37m\u001b[0m \u001b[1m53s\u001b[0m 2ms/step - loss: 1.5895e-04 - val_loss: 1.6457e-04\n",
      "Epoch 10/10\n",
      "\u001b[1m21803/21803\u001b[0m \u001b[32m━━━━━━━━━━━━━━━━━━━━\u001b[0m\u001b[37m\u001b[0m \u001b[1m54s\u001b[0m 2ms/step - loss: 1.5609e-04 - val_loss: 1.4694e-04\n",
      "\u001b[1m5451/5451\u001b[0m \u001b[32m━━━━━━━━━━━━━━━━━━━━\u001b[0m\u001b[37m\u001b[0m \u001b[1m6s\u001b[0m 1ms/step - loss: 1.4907e-04\n"
     ]
    },
    {
     "name": "stderr",
     "output_type": "stream",
     "text": [
      "WARNING:absl:You are saving your model as an HDF5 file via `model.save()` or `keras.saving.save_model(model)`. This file format is considered legacy. We recommend using instead the native Keras format, e.g. `model.save('my_model.keras')` or `keras.saving.save_model(model, 'my_model.keras')`. \n"
     ]
    }
   ],
   "source": [
    "with mlflow.start_run():\n",
    "    # Define the model\n",
    "    model = Sequential([\n",
    "        Dense(units=256, input_dim=25, activation='relu'), #input_dim depends on X.shape\n",
    "        Reshape((1, 256)),\n",
    "        SimpleRNN(units=128, activation='sigmoid'),\n",
    "        Dense(units=64, activation='tanh'),\n",
    "        Reshape((1, 64)),\n",
    "        SimpleRNN(units=32, activation='relu'),\n",
    "        Reshape((1, 32)),\n",
    "        SimpleRNN(units=16, activation='sigmoid'),\n",
    "        Dense(units=2) # number of units of the last layer should be equal to the number of columns in y(the target variable)\n",
    "    ])\n",
    "\n",
    "    # Compile the model\n",
    "    model.compile(optimizer='adam', loss='mean_squared_error')\n",
    "\n",
    "    # Log parameters\n",
    "    mlflow.log_param(\"model\", \"Sequential\")\n",
    "    mlflow.log_param(\"layer0\", \"Dense\")\n",
    "    mlflow.log_param(\"num_units0\", 256)\n",
    "    mlflow.log_param(\"activation0\", \"relu\")\n",
    "    mlflow.log_param(\"layer1\", \"Reshape\")\n",
    "    mlflow.log_param(\"target_shape1\", \"(1, 256)\")\n",
    "    mlflow.log_param(\"layer2\", \"SimpleRNN\")\n",
    "    mlflow.log_param(\"num_units2\", 128)\n",
    "    mlflow.log_param(\"activation2\", \"sigmoid\")\n",
    "    mlflow.log_param(\"layer3\", \"Dense\")\n",
    "    mlflow.log_param(\"num_units3\", 64)\n",
    "    mlflow.log_param(\"activation3\", \"tanh\")\n",
    "    mlflow.log_param(\"layer4\", \"SimpleRNN\")\n",
    "    mlflow.log_param(\"num_units4\", 32)\n",
    "    mlflow.log_param(\"activation4\", \"relu\")\n",
    "    mlflow.log_param(\"layer5\", \"SimpleRNN\")\n",
    "    mlflow.log_param(\"num_units5\", 16)\n",
    "    mlflow.log_param(\"activation5\", \"sigmoid\")\n",
    "    mlflow.log_param(\"layer6\", \"Dense\")\n",
    "    mlflow.log_param(\"num_units6\", 2)\n",
    "    mlflow.log_param(\"num_layers\", 7)\n",
    "\n",
    "    # Train the model\n",
    "    history = model.fit(X_train, y_train, epochs=10, batch_size=32, validation_data=(X_test, y_test))\n",
    "    \n",
    "    # Make predictions\n",
    "    #predictions = model.predict(X_test)\n",
    "    #predictions = scaler.inverse_transform(predictions)\n",
    "    #rmse = np.sqrt(mean_squared_error(y_test, predictions))\n",
    "    \n",
    "    # Log metrics\n",
    "    mlflow.log_metric(\"train_loss\", history.history['loss'][-1])\n",
    "    mlflow.log_metric(\"val_loss\", history.history['val_loss'][-1])\n",
    "\n",
    "    # Evaluate the model\n",
    "    loss = model.evaluate(X_test, y_test)\n",
    "    mlflow.log_metric(\"test_loss\", loss)\n",
    "\n",
    "    # Save the model\n",
    "    model.save(\"rnn2.h5\")\n",
    "    mlflow.log_artifact(\"rnn2.h5\")\n",
    "\n",
    "    # End MLflow run\n",
    "    mlflow.end_run()"
   ]
  },
  {
   "cell_type": "markdown",
   "metadata": {},
   "source": [
    "Now we plot the Loss function"
   ]
  },
  {
   "cell_type": "code",
   "execution_count": 22,
   "metadata": {},
   "outputs": [
    {
     "data": {
      "text/plain": [
       "<matplotlib.legend.Legend at 0x7f5906ec2dd0>"
      ]
     },
     "execution_count": 22,
     "metadata": {},
     "output_type": "execute_result"
    },
    {
     "data": {
      "image/png": "[encoded data removed]",
      "text/plain": [
       "<Figure size 1200x500 with 1 Axes>"
      ]
     },
     "metadata": {},
     "output_type": "display_data"
    }
   ],
   "source": [
    "plt.figure(figsize=(12,5))\n",
    "plt.subplot(1, 2, 1)\n",
    "plt.plot(history.history['loss'], label='Training loss')\n",
    "plt.plot(history.history['val_loss'], label='Validation loss ')\n",
    "plt.title('Model loss')\n",
    "plt.xlabel('Epoch')\n",
    "plt.ylabel('Loss')\n",
    "plt.legend()"
   ]
  }
 ],
 "metadata": {
  "kernelspec": {
   "display_name": "ISS",
   "language": "python",
   "name": "python3"
  },
  "language_info": {
   "codemirror_mode": {
    "name": "ipython",
    "version": 3
   },
   "file_extension": ".py",
   "mimetype": "text/x-python",
   "name": "python",
   "nbconvert_exporter": "python",
   "pygments_lexer": "ipython3",
   "version": "3.11.7"
  }
 },
 "nbformat": 4,
 "nbformat_minor": 2
}
